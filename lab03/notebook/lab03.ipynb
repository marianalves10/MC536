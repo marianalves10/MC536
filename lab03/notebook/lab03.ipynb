{
  "nbformat": 4,
  "nbformat_minor": 0,
  "metadata": {
    "kernelspec": {
      "display_name": "SQL",
      "language": "SQL",
      "name": "sql"
    },
    "language_info": {
      "codemirror_mode": "sql",
      "file_extension": ".sql",
      "mimetype": "",
      "name": "SQL",
      "nbconverter_exporter": "",
      "version": ""
    },
    "toc": {
      "base_numbering": 1,
      "nav_menu": {},
      "number_sections": false,
      "sideBar": false,
      "skip_h1_title": false,
      "title_cell": "Table of Contents",
      "title_sidebar": "Contents",
      "toc_cell": false,
      "toc_position": {},
      "toc_section_display": false,
      "toc_window_display": false
    },
    "colab": {
      "name": "lab03.ipynb",
      "provenance": []
    }
  },
  "cells": [
    {
      "cell_type": "markdown",
      "metadata": {
        "id": "jN6K0ntVmUya"
      },
      "source": [
        "# National Health and Nutrition Examination Survey (NHANES)\n",
        "[https://wwwn.cdc.gov/nchs/nhanes/](https://wwwn.cdc.gov/nchs/nhanes/)\n",
        "\n",
        "Este laboratório usará dados extraídos do NHANES.\n",
        "\n",
        "## NHANES datasets from 2013-2014\n",
        "\n",
        "Foram extraídos dados do [NHANES 2013-2014](https://wwwn.cdc.gov/nchs/nhanes/continuousnhanes/default.aspx?BeginYear=2013).\n",
        "\n",
        "Os dados estão disponíveis em arquivos CSV no diretório `/data/nhanes`. Lá está disponível a documentação do esquema dos arquivos."
      ]
    },
    {
      "cell_type": "markdown",
      "metadata": {
        "id": "tNK2tSgimUyi"
      },
      "source": [
        "# Tarefa 1 - Esquema Relacional\n",
        "\n",
        "Analise os arquivos CSV que estão no diretório `/data/nhanes` e escreva um esquema relacional referente às tabelas, suas chaves primárias e estrangeiras (não é SQL ainda). Coloque a chave primária com dois underlines antes e dois depois:\n",
        "\n",
        "\\__teste\\__"
      ]
    },
    {
      "cell_type": "markdown",
      "metadata": {
        "id": "rsoacx3qmUyk"
      },
      "source": [
        ""
      ]
    },
    {
      "cell_type": "markdown",
      "metadata": {
        "id": "qc81HytFmUyk"
      },
      "source": [
        "## Criação das Tabelas em SQL e Importação de Dados\n",
        "\n",
        "Considere o seguinte exemplo em que é criada uma tabela em SQL e importado dados do arquivo CSV `demographic-person.csv`."
      ]
    },
    {
      "cell_type": "code",
      "metadata": {
        "id": "2CxYPzUWmUym"
      },
      "source": [
        "%defaultDatasource jdbc:h2:mem:db"
      ],
      "execution_count": null,
      "outputs": []
    },
    {
      "cell_type": "code",
      "metadata": {
        "id": "OplWW-YimUyq"
      },
      "source": [
        "CREATE TABLE Pessoa (\n",
        "  Id VARCHAR(5) NOT NULL,\n",
        "  Gender INTEGER,\n",
        "  Age INTEGER,\n",
        "  PRIMARY KEY(Id)\n",
        ") AS SELECT\n",
        "    id,\n",
        "    gender,\n",
        "    age\n",
        "FROM CSVREAD('../../../data/nhanes/demographic-person.csv');"
      ],
      "execution_count": null,
      "outputs": []
    },
    {
      "cell_type": "code",
      "metadata": {
        "id": "BmHlaPj1mUyt",
        "colab": {
          "referenced_widgets": [
            "158e8a0e-958d-46ba-95d8-46c049a009b5"
          ]
        },
        "outputId": "2cc886ca-6952-4507-f932-e4c450d6bdae"
      },
      "source": [
        "SELECT * FROM Pessoa;"
      ],
      "execution_count": null,
      "outputs": [
        {
          "data": {
            "application/vnd.jupyter.widget-view+json": {
              "model_id": "158e8a0e-958d-46ba-95d8-46c049a009b5",
              "version_major": 2,
              "version_minor": 0
            },
            "method": "display_data"
          },
          "metadata": {},
          "output_type": "display_data"
        }
      ]
    },
    {
      "cell_type": "markdown",
      "metadata": {
        "id": "T5G3TN_NmUyw"
      },
      "source": [
        "# Tarefa 2 - Criação das Tabelas em SQL e Importação de Dados\n",
        "\n",
        "Escreva instruções SQL para montar as duas tabelas restante, conforme definido no esquema relacional da **Tarefa 1**.\n",
        "\n",
        "**Importante:** não defina chave primária para a tabela de uso de medicamento.\n",
        "\n",
        "Durante a criação das tabelas, realize a importação dos dados do arquivo CSV nas tabelas criadas, conforme exemplo anterior."
      ]
    },
    {
      "cell_type": "code",
      "metadata": {
        "id": "3oxZOYZsmUyy"
      },
      "source": [
        "CREATE TABLE Drug (\n",
        "  Code VARCHAR(100) NOT NULL,\n",
        "  Name VARCHAR(100),\n",
        "  PRIMARY KEY(Code)\n",
        ") AS SELECT\n",
        "    code,\n",
        "    name\n",
        "FROM CSVREAD('../data/medications-drug.csv');"
      ],
      "execution_count": null,
      "outputs": []
    },
    {
      "cell_type": "code",
      "metadata": {
        "id": "XP7p2i8fJBpk"
      },
      "source": [
        "SELECT * FROM Drug;"
      ],
      "execution_count": null,
      "outputs": []
    },
    {
      "cell_type": "code",
      "metadata": {
        "id": "1UwxqGxBm-pn"
      },
      "source": [
        "CREATE TABLE Medication (\n",
        "  Person_id VARCHAR(100) NOT NULL,\n",
        "  Drug_code VARCHAR(100),\n",
        "  Days_use INTEGER,\n",
        ") AS SELECT\n",
        "    person_id,\n",
        "    drug_code,\n",
        "    days_use\n",
        "FROM CSVREAD('../data/medications-use.csv');"
      ],
      "execution_count": null,
      "outputs": []
    },
    {
      "cell_type": "code",
      "metadata": {
        "id": "DDPsFeS27LF7"
      },
      "source": [
        "SELECT * FROM Medication;"
      ],
      "execution_count": null,
      "outputs": []
    },
    {
      "cell_type": "markdown",
      "metadata": {
        "id": "MMpFjUUXmUyz"
      },
      "source": [
        "# Tarefa 3 - Consultas Simples\n",
        "\n",
        "Execute as consultas a seguir."
      ]
    },
    {
      "cell_type": "markdown",
      "metadata": {
        "id": "HSJWUFeHmUy0"
      },
      "source": [
        "a) Liste pessoas com idade acima de 60"
      ]
    },
    {
      "cell_type": "code",
      "metadata": {
        "id": "brtwJlxfmUy0"
      },
      "source": [
        "SELECT id FROM Pessoa WHERE age > 60"
      ],
      "execution_count": null,
      "outputs": []
    },
    {
      "cell_type": "markdown",
      "metadata": {
        "id": "p_sjdIaImUy1"
      },
      "source": [
        "b) Liste as idades das pessoas cadastradas (sem repetições)"
      ]
    },
    {
      "cell_type": "code",
      "metadata": {
        "id": "yWHZSDYkmUy2"
      },
      "source": [
        "SELECT DISTINCT age\n",
        "    FROM Pessoa, Medications\n",
        "    WHERE Pessoa.id = Medications.person_id"
      ],
      "execution_count": null,
      "outputs": []
    },
    {
      "cell_type": "markdown",
      "metadata": {
        "id": "MQhDXX-JmUy3"
      },
      "source": [
        "c) Liste código das pessoas, idade, código dos medicamentos que usaram e dias de uso"
      ]
    },
    {
      "cell_type": "code",
      "metadata": {
        "id": "K7kTtQ_amUy4"
      },
      "source": [
        "SELECT DISTINCT id, age, drug_code, days_use\n",
        "    FROM Pessoa, Medications\n",
        "    WHERE Pessoa.id = Medications.person_id"
      ],
      "execution_count": null,
      "outputs": []
    },
    {
      "cell_type": "markdown",
      "metadata": {
        "id": "WLR3dYabmUy4"
      },
      "source": [
        "d) Liste código das Pessoas, idade, nome dos medicamentos que usaram e quantos dias de uso"
      ]
    },
    {
      "cell_type": "code",
      "metadata": {
        "id": "2txuJQZvmUy5"
      },
      "source": [
        "SELECT DISTINCT id, age, name, drug_code, days_use\n",
        "    FROM Pessoa, Medications, Drug\n",
        "    WHERE Pessoa.id = Medications.person_id AND\n",
        "        Medications.drug_code = Drug.code"
      ],
      "execution_count": null,
      "outputs": []
    },
    {
      "cell_type": "markdown",
      "metadata": {
        "id": "CL-WKXG_mUy5"
      },
      "source": [
        "e) Liste nome dos medicamentos que foram usados por pessoas (sem repetições)"
      ]
    },
    {
      "cell_type": "code",
      "metadata": {
        "id": "Z8lqLriAmUy6"
      },
      "source": [
        "SELECT DISTINCT name\n",
        "    FROM Pessoa, Drug, Medications\n",
        "    WHERE Drug.code = Medications.drug_code AND Medications.person_id = Pessoa.id"
      ],
      "execution_count": null,
      "outputs": []
    },
    {
      "cell_type": "markdown",
      "metadata": {
        "id": "AEnVp9UXmUy7"
      },
      "source": [
        "f) Liste nome dos medicamentos usados por mais de 2.000 dias (sem repetições)"
      ]
    },
    {
      "cell_type": "code",
      "metadata": {
        "id": "1JSqOim4mUy8"
      },
      "source": [
        "SELECT DISTINCT name\n",
        "    FROM Drug, Medications\n",
        "    WHERE Drug.code = Medications.drug_code AND Medications.days_use >2000"
      ],
      "execution_count": null,
      "outputs": []
    }
  ]
}