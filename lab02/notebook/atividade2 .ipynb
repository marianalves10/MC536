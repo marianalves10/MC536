{
  "nbformat": 4,
  "nbformat_minor": 5,
  "metadata": {
    "kernelspec": {
      "display_name": "Python 3",
      "language": "python",
      "name": "python3"
    },
    "language_info": {
      "codemirror_mode": {
        "name": "ipython",
        "version": 3
      },
      "file_extension": ".py",
      "mimetype": "text/x-python",
      "name": "python",
      "nbconvert_exporter": "python",
      "pygments_lexer": "ipython3",
      "version": "3.8.10"
    },
    "colab": {
      "name": "atividade2.ipynb",
      "provenance": []
    }
  },
  "cells": [
    {
      "cell_type": "markdown",
      "metadata": {
        "id": "monetary-oakland"
      },
      "source": [
        "# Laboratório 2"
      ],
      "id": "monetary-oakland"
    },
    {
      "cell_type": "markdown",
      "metadata": {
        "id": "bridal-netscape"
      },
      "source": [
        "## Tarefa 1\n",
        "\n",
        "### Carregue o nó de Tenda dos Milagres (da versão em inglês Tent of Miracles) em Python e mostre o conteúdo JSON."
      ],
      "id": "bridal-netscape"
    },
    {
      "cell_type": "code",
      "metadata": {
        "id": "exciting-cement"
      },
      "source": [
        "import io\n",
        "import requests\n",
        "import json"
      ],
      "id": "exciting-cement",
      "execution_count": 52,
      "outputs": []
    },
    {
      "cell_type": "code",
      "metadata": {
        "id": "jUB3s5QM_Yoi"
      },
      "source": [
        "url_tent = \"https://dbpedia.org/data/Tent_of_Miracles_(novel).json\"\n",
        "data_tent = requests.get(url_tent)\n",
        "json_tent = data_tent.json()\n",
        "print(json.dumps(json_tent, indent=3))"
      ],
      "id": "jUB3s5QM_Yoi",
      "execution_count": null,
      "outputs": []
    },
    {
      "cell_type": "markdown",
      "metadata": {
        "id": "threatened-shepherd"
      },
      "source": [
        "## Tarefa 2\n",
        "### Recupere via Python e mostre o autor de Tenda dos Milagres?"
      ],
      "id": "threatened-shepherd"
    },
    {
      "cell_type": "code",
      "metadata": {
        "id": "O7Ly4qc-KFpm"
      },
      "source": [
        "jorge_amado = json_tent[\"http://dbpedia.org/resource/Tent_of_Miracles_(novel)\"][\"http://dbpedia.org/property/author\"][0][\"value\"]\n",
        "print(\"Autor de Tenda dos Milagres: \" + jorge_amado)"
      ],
      "id": "O7Ly4qc-KFpm",
      "execution_count": null,
      "outputs": []
    },
    {
      "cell_type": "markdown",
      "metadata": {
        "id": "specialized-playback"
      },
      "source": [
        "## Tarefa 3\n",
        "### Quais os termos usados para Aspirina (consulta JSON/MeSH em Python)?"
      ],
      "id": "specialized-playback"
    },
    {
      "cell_type": "code",
      "metadata": {
        "id": "about-sacramento"
      },
      "source": [
        "url_template = \"https://id.nlm.nih.gov/mesh/lookup/descriptor?label={concept}&match={match}&limit={limit}\"\n",
        "\n",
        "concept = \"Aspirin\"\n",
        "match = \"exact\"\n",
        "limit = \"10\"\n",
        "\n",
        "concept = concept.replace(\" \", \"%20\")\n",
        "\n",
        "url = url_template.replace(\"{concept}\", concept)\\\n",
        "                  .replace(\"{match}\", match)\\\n",
        "                  .replace(\"{limit}\", limit)\n",
        "\n",
        "data = requests.get(url)\n",
        "json_mi = data.json()"
      ],
      "id": "about-sacramento",
      "execution_count": 55,
      "outputs": []
    },
    {
      "cell_type": "code",
      "metadata": {
        "id": "zNDZ16ER60Vh"
      },
      "source": [
        "uri_mesh = json_mi[0][\"resource\"]\n",
        "bar = str.rindex(uri_mesh, \"/\")\n",
        "url_template = \"https://id.nlm.nih.gov/mesh/lookup/details?descriptor={code}\"\n",
        "code = uri_mesh[bar+1:]\n",
        "url = url_template.replace(\"{code}\", code)\n",
        "data = requests.get(url)\n",
        "json_mid = data.json()\n",
        "for data in json_mid['terms']:\n",
        "  print(data['label'])"
      ],
      "id": "zNDZ16ER60Vh",
      "execution_count": null,
      "outputs": []
    },
    {
      "cell_type": "markdown",
      "metadata": {
        "id": "uniform-worst"
      },
      "source": [
        "## Tarefa 4\n",
        "### Escolha algum lugar no OpenStreetMap e elabore a mesma sequência de três chamadas de serviços para o seu conceito."
      ],
      "id": "uniform-worst"
    },
    {
      "cell_type": "code",
      "metadata": {
        "id": "ZXtUrBLsvMnC"
      },
      "source": [
        "url_template = \"http://nominatim.openstreetmap.org/search?format={format}&q={query}\"\n",
        "format = \"json\"\n",
        "query = \"Hollywood Sign\"\n",
        "\n",
        "url = url_template.replace(\"{format}\", format)\\\n",
        "                  .replace(\"{query}\", query)\n",
        "\n",
        "data = requests.get(url)\n",
        "holly_ref = data.json()"
      ],
      "id": "ZXtUrBLsvMnC",
      "execution_count": 57,
      "outputs": []
    },
    {
      "cell_type": "code",
      "metadata": {
        "id": "sXuRusmR_4yp"
      },
      "source": [
        "url_template = \"https://api.openstreetmap.org/api/0.6/{element_type}/{id}.{format}\"\n",
        "\n",
        "element_type = \"node\"\n",
        "id = str(holly_ref[0][\"osm_id\"])\n",
        "format = \"json\"\n",
        "\n",
        "url = url_template.replace(\"{element_type}\", element_type)\\\n",
        "                  .replace(\"{id}\", id)\\\n",
        "                  .replace(\"{format}\", format)\n",
        "\n",
        "data = requests.get(url)\n",
        "holly_way = data.json()"
      ],
      "id": "sXuRusmR_4yp",
      "execution_count": 58,
      "outputs": []
    },
    {
      "cell_type": "code",
      "metadata": {
        "id": "NtqMCMp6_8qR"
      },
      "source": [
        "url_template = \"http://dbpedia.org/data/{concept}.{format}\"\n",
        "concept = holly_way[\"elements\"][0][\"tags\"][\"wikipedia\"].replace(\" \", \"_\")\\\n",
        "                                                        .replace(\"en:\", \"\")\n",
        "format = \"jsod\"\n",
        "\n",
        "url = url_template.replace(\"{concept}\", concept)\\\n",
        "                  .replace(\"{format}\", format)\n",
        "\n",
        "data = requests.get(url)\n",
        "holly_dbpedia = data.json()\n",
        "print(json.dumps(holly_dbpedia, indent=3))"
      ],
      "id": "NtqMCMp6_8qR",
      "execution_count": null,
      "outputs": []
    }
  ]
}